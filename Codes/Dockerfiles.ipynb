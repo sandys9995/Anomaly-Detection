{
 "cells": [
  {
   "cell_type": "markdown",
   "id": "d2ba62b4",
   "metadata": {},
   "source": [
    "### Docker Compose File\n",
    "\n",
    "The following Docker Compose file defines two services, 'fastapi' and 'streamlit', and sets up the necessary configurations for running the application.\n",
    "\n",
    "- **Version:** The Docker Compose file is written in version '3' format.\n",
    "\n",
    "#### FastAPI Service\n",
    "\n",
    "The 'fastapi' service is responsible for hosting the FastAPI application.\n",
    "\n",
    "- **Image:** It uses the 'detection' image.\n",
    "- **Ports:** The service maps port 80 of the container to port 80 on the host machine.\n",
    "- **Networks:** The service connects to the 'my_network' network, allowing it to communicate with other services on the same network.\n",
    "- **Volumes:** It mounts the 'my_data' volume into the '/GM_usecase/backend_fastapi/app/faulty_data' directory within the container.\n",
    "\n",
    "#### Streamlit Service\n",
    "\n",
    "The 'streamlit' service is responsible for hosting the Streamlit frontend.\n",
    "\n",
    "- **Image:** It uses the 'frontend' image.\n",
    "- **Ports:** The service maps port 8051 of the container to port 8051 on the host machine.\n",
    "- **Networks:** The service connects to the 'my_network' network, allowing it to communicate with other services on the same network.\n",
    "- **Volumes:** It mounts the 'my_data' volume into the '/GM_usecase/backend_fastapi/app/faulty_data' directory within the container.\n",
    "\n",
    "#### Networks\n",
    "\n",
    "- **my_network:** This section defines the 'my_network' network, which allows the 'fastapi' and 'streamlit' services to communicate with each other.\n",
    "\n",
    "#### Volumes\n",
    "\n",
    "- **my_data:** This section defines the 'my_data' volume, which is mounted into both the 'fastapi' and 'streamlit' services. It's used for sharing data between the services and persisting data.\n",
    "\n",
    "This Docker Compose file enables running the FastAPI and Streamlit services in separate containers while allowing them to communicate and share data using the specified network and volumes.\n",
    "\n"
   ]
  },
  {
   "cell_type": "raw",
   "id": "c82428e0",
   "metadata": {},
   "source": [
    "version: '3'\n",
    "services:\n",
    "  fastapi:\n",
    "    image: detection\n",
    "    ports:\n",
    "      - \"80:80\"\n",
    "    networks:\n",
    "      - my_network\n",
    "    volumes:\n",
    "      - my_data:/GM_usecase/backend_fastapi/app/faulty_data\n",
    "\n",
    "  streamlit:\n",
    "    image: frontend\n",
    "    ports:\n",
    "      - \"8051:8051\"\n",
    "    networks:\n",
    "      - my_network\n",
    "    volumes:\n",
    "      - my_data:/GM_usecase/backend_fastapi/app/faulty_data\n",
    "\n",
    "networks:\n",
    "  my_network:\n",
    "\n",
    "volumes:\n",
    "  my_data:\n"
   ]
  },
  {
   "cell_type": "markdown",
   "id": "919b9774",
   "metadata": {},
   "source": [
    "### Dockerfile\n",
    "\n",
    "The following Dockerfile is used to build a Docker image for a FastAPI application.\n",
    "\n",
    "- **Base Image:** The Docker image is based on `tiangolo/uvicorn-gunicorn-fastapi:python3.9`, which provides a Python environment with Uvicorn and Gunicorn for hosting FastAPI applications.\n",
    "\n",
    "- **Copying Requirements File:** The `requirements.txt` file from the local directory is copied into the `/app` directory within the container.\n",
    "\n",
    "- **Installing System Dependencies:** The Docker image is updated, and the `libgl1-mesa-glx` package is installed. This package provides OpenGL support.\n",
    "\n",
    "- **Installing Python Dependencies:** The Python dependencies listed in `requirements.txt` are installed using `pip`. The `--no-cache-dir` option is used to avoid caching downloaded packages, ensuring a clean install.\n",
    "\n",
    "- **Copying Application Code:** The contents of the `app` directory from the local directory are copied into the `/app/app` directory within the container.\n",
    "\n",
    "- **Exposing Port:** Port 80 within the container is exposed to allow incoming connections.\n",
    "\n",
    "- **Command (Commented Out):** The `CMD` instruction to run the FastAPI application is provided but commented out. It runs Uvicorn with the `app.main:app` application\n"
   ]
  },
  {
   "cell_type": "raw",
   "id": "f0ac0cb1",
   "metadata": {},
   "source": [
    "FROM tiangolo/uvicorn-gunicorn-fastapi:python3.9\n",
    "\n",
    "COPY ./requirements.txt /app/requirements.txt\n",
    "\n",
    "RUN apt-get update && apt-get install -y libgl1-mesa-glx\n",
    "\n",
    "RUN pip install --no-cache-dir --upgrade -r /app/requirements.txt\n",
    "\n",
    "COPY ./app /app/app\n",
    "\n",
    "EXPOSE 80\n",
    "\n",
    "#CMD [\"uvicorn\", \"app.main:app\", \"--host\", \"0.0.0.0\", \"--port\", \"80\"]\n"
   ]
  }
 ],
 "metadata": {
  "kernelspec": {
   "display_name": "tfsandy",
   "language": "python",
   "name": "tfsandy"
  },
  "language_info": {
   "codemirror_mode": {
    "name": "ipython",
    "version": 3
   },
   "file_extension": ".py",
   "mimetype": "text/x-python",
   "name": "python",
   "nbconvert_exporter": "python",
   "pygments_lexer": "ipython3",
   "version": "3.7.13"
  },
  "toc": {
   "base_numbering": 1,
   "nav_menu": {
    "height": "140.991px",
    "width": "277px"
   },
   "number_sections": true,
   "sideBar": true,
   "skip_h1_title": false,
   "title_cell": "Table of Contents",
   "title_sidebar": "Contents",
   "toc_cell": false,
   "toc_position": {},
   "toc_section_display": true,
   "toc_window_display": false
  }
 },
 "nbformat": 4,
 "nbformat_minor": 5
}
