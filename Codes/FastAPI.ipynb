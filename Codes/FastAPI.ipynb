{
 "cells": [
  {
   "cell_type": "markdown",
   "id": "cc7213f8",
   "metadata": {},
   "source": [
    "# Content\n",
    "------------------------------------------------------------------------------------------------------------------------------------------------------------------------------------------------------------\n",
    "\n",
    "[2. Introduction](#Introduction)\n",
    "\n",
    "[2.1 Overview](#Overview)\n",
    "\n",
    "[2.2 Importing the important libraries](#Importing-the-important-libraries)\n",
    "\n",
    "[2.3 FastAPI Application Initialization](#FastAPI-Application-Initialization)\n",
    "\n",
    "[2.4 FastAPI Endpoint Description](#FastAPI-Endpoint-Description)\n",
    "\n",
    "[2.5 FastAPI Endpoint Description](#FastAPI-Endpoint-Description)"
   ]
  },
  {
   "cell_type": "markdown",
   "id": "1ba9be1c",
   "metadata": {},
   "source": [
    "# Introduction\n",
    "----------------------------------------------------------------------------------------------------------------------------------------------------------------------------------------------------------\n",
    "\n",
    "This notebook serves as a guide to using FastAPI to create endpoints for a frontend or dashboard application. The primary goal is to enable interaction with a machine learning model for predictive tasks. Specifically, the notebook demonstrates the setup and utilization of FastAPI endpoints for processing and prediction.\n",
    "\n",
    "## Overview\n",
    "\n",
    "- FastAPI, a modern web framework for building APIs, plays a pivotal role in this process. It facilitates the creation of endpoints to receive and respond to HTTP requests effectively.\n",
    "\n",
    "- The primary objective of this notebook is to illustrate the implementation of an endpoint that allows users to upload files or data for processing. In the context of machine learning, this endpoint can be used to make predictions, conduct analysis, and provide responses to client applications.\n",
    "\n",
    "- The notebook delves into the code required for creating and configuring the FastAPI application, defining endpoints, processing uploaded data, and returning results. The main endpoint described in this notebook expects file uploads, processes the data, and saves the processed results in a structured manner.\n",
    "\n",
    "- Throughout the notebook, you will find explanations of the code, including the use of FastAPI decorators and middleware, data processing steps, and error handling strategies.\n",
    "\n",
    "- The endpoint presented here is just one example of what FastAPI can achieve. It can serve as a foundation for building more complex and customized APIs tailored to specific use cases."
   ]
  },
  {
   "cell_type": "markdown",
   "id": "6741759f",
   "metadata": {},
   "source": [
    "## Importing the important libraries\n",
    "------------------------------------------------------------------------------------------------------------------------------------------------------------------------------------------------------------"
   ]
  },
  {
   "cell_type": "code",
   "execution_count": 2,
   "id": "f2a6d495",
   "metadata": {},
   "outputs": [],
   "source": [
    "from pydantic import BaseModel\n",
    "from typing import Optional\n",
    "from fastapi.responses import JSONResponse, FileResponse\n",
    "from fastapi import FastAPI, File, UploadFile\n",
    "from app.model.model import predict_pipeline\n",
    "import numpy as np\n",
    "import pandas as pd\n",
    "import cv2\n",
    "import io\n",
    "from fastapi.middleware.cors import CORSMiddleware\n",
    "import json\n",
    "import os\n",
    "import shutil\n",
    "import uvicorn"
   ]
  },
  {
   "cell_type": "markdown",
   "id": "e5020556",
   "metadata": {},
   "source": [
    "\n",
    "## FastAPI Application Initialization\n",
    "------------------------------------------------------------------------------------------------------------------------------------------------------------------------------------------------------------\n",
    "\n",
    "1. FastAPI Application with CORS Configuration\n",
    "\n",
    "2. Create a FastAPI application instance.\n",
    "    \n",
    "    **app = FastAPI()**\n",
    "        \n",
    "- Define a list of allowed origins for Cross-Origin Resource Sharing (CORS).\n",
    "   \n",
    "   **orings = [\"*\"]**\n",
    "\n",
    "- Add CORS middleware to the FastAPI application.\n",
    "\n",
    "3. app.add_middleware( CORSMiddleware,\n",
    "\n",
    "- Allow requests from any origin (\"*\")\n",
    "\n",
    "    **allow_origins=orings**   \n",
    "      \n",
    "- Allow including credentials (e.g., cookies) with requests \n",
    "\n",
    "    **allow_credentials=True**\n",
    "    \n",
    "- Allow all HTTP methods\n",
    "\n",
    "    **allow_methods=[\"*\"]** \n",
    "    \n",
    "- Allow all headers in requests.\n",
    "\n",
    "    **allow_headers=[\"*\"]**       \n",
    "\n"
   ]
  },
  {
   "cell_type": "code",
   "execution_count": 3,
   "id": "4d5edcce",
   "metadata": {},
   "outputs": [],
   "source": [
    "app = FastAPI()\n",
    "\n",
    "orings = [\"*\"]\n",
    "\n",
    "app.add_middleware(\n",
    "    CORSMiddleware,\n",
    "    allow_origins = orings,\n",
    "    allow_credentials = True,\n",
    "    allow_methods = [\"*\"],\n",
    "    allow_headers = [\"*\"]\n",
    ")"
   ]
  },
  {
   "cell_type": "markdown",
   "id": "9c89da85",
   "metadata": {},
   "source": [
    "## FastAPI Endpoint Description\n",
    "------------------------------------------------------------------------------------------------------------------------------------------------------------------------------------------------------------\n",
    "\n",
    "- In this section, we define a FastAPI endpoint that responds to `HTTP GET` requests to the root `(\"/\")` path. The endpoint provides a simple health check response.\n"
   ]
  },
  {
   "cell_type": "code",
   "execution_count": 4,
   "id": "5db6c4ec",
   "metadata": {},
   "outputs": [],
   "source": [
    "@app.get(\"/\")\n",
    "def home():\n",
    "    return {\"health_check\": \"Sandy is Here\"}"
   ]
  },
  {
   "cell_type": "markdown",
   "id": "aedc8138",
   "metadata": {},
   "source": [
    "## FastAPI Endpoint Description\n",
    "------------------------------------------------------------------------------------------------------------------------------------------------------------------------------------------------------------\n",
    "In this section, we define a FastAPI endpoint for file upload and processing. The endpoint expects a file upload, performs processing using a loaded model, and saves the results in `JSON format`.\n",
    "\n",
    "\n",
    " **1. Request Model Definition**\n",
    "- We define a request model `PredictionRequest` using FastAPI's `BaseModel`. It specifies that the endpoint expects a file upload.\n",
    "\n",
    " **2. Endpoint Definition**\n",
    " - We define an endpoint using the `@app.post(\"/predict/\")` decorator, indicating that this endpoint responds to `HTTP POST` requests at the `\"/predict/\"` path. It receives a file upload.\n",
    " \n",
    " **3. File Processing**\n",
    "- The code within the endpoint processes the uploaded file. It reads the content of the file, converts it to a CSV format, and performs processing using the predict_pipeline function.\n",
    "\n",
    "**4. Data Saving**\n",
    "- The results of the processing are saved as JSON files. Each JSON file corresponds to a specific faulty index and is organized in folders within the base directory.\n",
    "\n",
    "**5. Error Handling**\n",
    "- The code includes error handling to catch any exceptions and provide appropriate responses.\n",
    "\n",
    "- The endpoint returns a JSON response with a success message, drift data, and information about faulty indexes upon successful execution.\n",
    "\n",
    "- In case of an error, the endpoint provides an error message with a status code of 500.\n",
    "\n",
    "- This endpoint is designed to handle file uploads, process the data, and save the results in a structured manner for further analysis."
   ]
  },
  {
   "cell_type": "code",
   "execution_count": 5,
   "id": "2843c80b",
   "metadata": {},
   "outputs": [],
   "source": [
    "class PredictionRequest(BaseModel):\n",
    "    file: UploadFile\n",
    "\n",
    "\n",
    "# Define the base directory where prediction folders will be created\n",
    "base_directory = \"faulty_data\"\n",
    "\n",
    "@app.post(\"/predict/\")\n",
    "async def predict(file: UploadFile):\n",
    "    try:\n",
    "        file_name = file.filename\n",
    "\n",
    "        content = await file.read()\n",
    "        csv_file_name = io.StringIO(content.decode(\"utf-8\"))\n",
    "\n",
    "        # Perform your processing using the loaded model here\n",
    "        faulty_indexes, faulty_dic_list, drift_data = predict_pipeline(csv_file_name)\n",
    "\n",
    "        # Define the base directory for saving data\n",
    "        base_directory = \"/GM_usecase/backend_fastapi/app/faulty_data\"\n",
    "\n",
    "        # Ensure the base directory exists within the container\n",
    "        os.makedirs(base_directory, exist_ok=True)\n",
    "\n",
    "        # Clean up the old prediction folders (delete previous data)\n",
    "        for folder_name in os.listdir(base_directory):\n",
    "            folder_path = os.path.join(base_directory, folder_name)\n",
    "            if os.path.isdir(folder_path):\n",
    "                shutil.rmtree(folder_path)\n",
    "\n",
    "        # Iterate through each faulty index and create a folder for it\n",
    "        for faulty_index, (index, data_dict) in zip(faulty_indexes, enumerate(faulty_dic_list)):\n",
    "            new_folder = os.path.join(base_directory, f\"prediction_{faulty_index}\")\n",
    "            os.makedirs(new_folder, exist_ok=True)\n",
    "\n",
    "            # Save each dictionary in faulty_dic_list as a separate JSON file in the new folder\n",
    "            filename = os.path.join(new_folder, f\"faulty_index_{index}.json\")\n",
    "            with open(filename, \"w\") as json_file:\n",
    "                json.dump(data_dict, json_file)\n",
    "\n",
    "        return JSONResponse(content={\"Message\": \"Data saved as JSON\",\"Drift Data\": drift_data,\"faulty_index\":faulty_indexes}, status_code=201)\n",
    "    except Exception as e:\n",
    "        return JSONResponse(content={\"message\": f\"An error occurred: {str(e)}\"}, status_code=500)\n"
   ]
  },
  {
   "cell_type": "markdown",
   "id": "18a8ab63",
   "metadata": {},
   "source": [
    "######################################### END ############################################"
   ]
  }
 ],
 "metadata": {
  "kernelspec": {
   "display_name": "tfsandy",
   "language": "python",
   "name": "tfsandy"
  },
  "language_info": {
   "codemirror_mode": {
    "name": "ipython",
    "version": 3
   },
   "file_extension": ".py",
   "mimetype": "text/x-python",
   "name": "python",
   "nbconvert_exporter": "python",
   "pygments_lexer": "ipython3",
   "version": "3.7.13"
  },
  "toc": {
   "base_numbering": 1,
   "nav_menu": {
    "height": "150px",
    "width": "391.877px"
   },
   "number_sections": true,
   "sideBar": true,
   "skip_h1_title": false,
   "title_cell": "Table of Contents",
   "title_sidebar": "Contents",
   "toc_cell": false,
   "toc_position": {},
   "toc_section_display": true,
   "toc_window_display": false
  }
 },
 "nbformat": 4,
 "nbformat_minor": 5
}
